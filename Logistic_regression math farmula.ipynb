{
 "cells": [
  {
   "cell_type": "code",
   "execution_count": 8,
   "metadata": {},
   "outputs": [
    {
     "name": "stdout",
     "output_type": "stream",
     "text": [
      "Final beta_0: -5.230062614614006\n",
      "Final beta_1: 1.2291873309564059\n"
     ]
    },
    {
     "data": {
      "image/png": "[encoded data removed]",
      "text/plain": [
       "<Figure size 432x288 with 1 Axes>"
      ]
     },
     "metadata": {
      "needs_background": "light"
     },
     "output_type": "display_data"
    }
   ],
   "source": [
    "import numpy as np\n",
    "import matplotlib.pyplot as plt\n",
    "\n",
    "# Data\n",
    "X = np.array([1, 2, 3, 4, 5, 6, 7, 8, 9, 10])\n",
    "y = np.array([0, 0, 0, 0, 1, 1, 1, 1, 1, 1])\n",
    "\n",
    "# Initialize parameters\n",
    "beta_0 = 0\n",
    "beta_1 = 0\n",
    "alpha = 0.01\n",
    "iterations = 1000\n",
    "tolerance = 1e-6\n",
    "\n",
    "# Sigmoid function\n",
    "def sigmoid(z):\n",
    "    return 1 / (1 + np.exp(-z))\n",
    "\n",
    "# Log-loss function\n",
    "def log_loss(y, p):\n",
    "    return -np.mean(y * np.log(p) + (1 - y) * np.log(1 - p))\n",
    "\n",
    "# Gradient descent with early stopping\n",
    "costs = []\n",
    "for i in range(iterations):\n",
    "    # Step 1: Calculate the predicted probabilities\n",
    "    z = beta_0 + beta_1 * X\n",
    "    p = sigmoid(z)\n",
    "    \n",
    "    # Step 2: Calculate the log-loss\n",
    "    cost = log_loss(y, p)\n",
    "    costs.append(cost)\n",
    "    \n",
    "    # Step 3: Calculate the gradients\n",
    "    error = y - p\n",
    "    gradient_beta_0 = np.sum(error)\n",
    "    gradient_beta_1 = np.sum(error * X)\n",
    "    \n",
    "    # Step 4: Update the parameters\n",
    "    beta_0 += alpha * gradient_beta_0\n",
    "    beta_1 += alpha * gradient_beta_1\n",
    "    \n",
    "    # Check for convergence\n",
    "    if i > 0 and abs(costs[-1] - costs[-2]) < tolerance:\n",
    "        print(f\"Converged after {i+1} iterations\")\n",
    "        break\n",
    "\n",
    "print(f\"Final beta_0: {beta_0}\")\n",
    "print(f\"Final beta_1: {beta_1}\")\n",
    "\n",
    "# Plotting the cost function\n",
    "plt.plot(costs)\n",
    "plt.xlabel('Iterations')\n",
    "plt.ylabel('Log-Loss')\n",
    "plt.title('Convergence of the Log-Loss')\n",
    "plt.show()\n"
   ]
  },
  {
   "cell_type": "code",
   "execution_count": 2,
   "metadata": {},
   "outputs": [
    {
     "name": "stdout",
     "output_type": "stream",
     "text": [
      "beta_0: -5.3072100609207, beta_1: 1.181075616835938\n"
     ]
    }
   ],
   "source": [
    "import numpy as np\n",
    "from sklearn.linear_model import LogisticRegression\n",
    "\n",
    "# Data\n",
    "X = np.array([1, 2, 3, 4, 5, 6, 7, 8, 9, 10]).reshape(-1, 1)\n",
    "y = np.array([0, 0, 0, 0, 1, 1, 1, 1, 1, 1])\n",
    "\n",
    "# Create and fit the model\n",
    "model = LogisticRegression()\n",
    "model.fit(X, y)\n",
    "\n",
    "# Coefficients\n",
    "beta_0 = model.intercept_[0]\n",
    "beta_1 = model.coef_[0][0]\n",
    "\n",
    "print(f'beta_0: {beta_0}, beta_1: {beta_1}')\n"
   ]
  },
  {
   "cell_type": "code",
   "execution_count": 7,
   "metadata": {},
   "outputs": [
    {
     "data": {
      "text/plain": [
       "'lbfgs'"
      ]
     },
     "execution_count": 7,
     "metadata": {},
     "output_type": "execute_result"
    }
   ],
   "source": [
    "model.solver"
   ]
  },
  {
   "cell_type": "code",
   "execution_count": null,
   "metadata": {},
   "outputs": [],
   "source": []
  }
 ],
 "metadata": {
  "kernelspec": {
   "display_name": "Python 3",
   "language": "python",
   "name": "python3"
  },
  "language_info": {
   "codemirror_mode": {
    "name": "ipython",
    "version": 3
   },
   "file_extension": ".py",
   "mimetype": "text/x-python",
   "name": "python",
   "nbconvert_exporter": "python",
   "pygments_lexer": "ipython3",
   "version": "3.7.6"
  }
 },
 "nbformat": 4,
 "nbformat_minor": 4
}
