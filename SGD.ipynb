{
 "cells": [
  {
   "cell_type": "code",
   "execution_count": 2,
   "metadata": {},
   "outputs": [
    {
     "name": "stdout",
     "output_type": "stream",
     "text": [
      "Model parameters: w = 3.9208351884482546, b = 15.351258940453011\n",
      "Mean Squared Error: 1.7410060295638219\n"
     ]
    }
   ],
   "source": [
    "import numpy as np\n",
    "from sklearn.linear_model import SGDRegressor\n",
    "from sklearn.preprocessing import StandardScaler\n",
    "from sklearn.metrics import mean_squared_error\n",
    "\n",
    "# Define the dataset\n",
    "X = np.array([127.4, 364.4, 150, 128.7, 285.9, 200, 303.3, 315.7, 169.8, 104.9, \n",
    "              297.7, 256.4, 249.1, 323.1, 223, 235, 200]).reshape(-1, 1)\n",
    "y = np.array([10.5, 21.4, 10, 9.6, 17.4, 12.5, 20, 21, 14.7, 10.1, 21.5, \n",
    "              16.6, 17.1, 20.7, 15.5, 13.5, 12.5])\n",
    "\n",
    "# Scale the data\n",
    "scaler = StandardScaler()\n",
    "X_scaled = scaler.fit_transform(X)\n",
    "\n",
    "# Create and fit the model\n",
    "sgd_regressor = SGDRegressor(max_iter=1000, tol=1e-3, learning_rate='constant', eta0=0.001)\n",
    "sgd_regressor.fit(X_scaled, y)\n",
    "\n",
    "# Print the model parameters\n",
    "print(f\"Model parameters: w = {sgd_regressor.coef_[0]}, b = {sgd_regressor.intercept_[0]}\")\n",
    "\n",
    "# Make predictions\n",
    "y_pred = sgd_regressor.predict(X_scaled)\n",
    "\n",
    "# Compute and print the mean squared error\n",
    "mse = mean_squared_error(y, y_pred)\n",
    "print(f\"Mean Squared Error: {mse}\")\n"
   ]
  },
  {
   "cell_type": "code",
   "execution_count": 6,
   "metadata": {},
   "outputs": [
    {
     "name": "stdout",
     "output_type": "stream",
     "text": [
      "Model parameters: w = -204856768800.03128, b = 9912084025.288282\n"
     ]
    }
   ],
   "source": [
    "import numpy as np\n",
    "from sklearn.linear_model import SGDRegressor\n",
    "from sklearn.preprocessing import StandardScaler\n",
    "from sklearn.metrics import mean_squared_error\n",
    "\n",
    "# Define the dataset\n",
    "X = np.array([127.4, 364.4, 150, 128.7, 285.9, 200, 303.3, 315.7, 169.8, 104.9, \n",
    "              297.7, 256.4, 249.1, 323.1, 223, 235, 200]).reshape(-1, 1)\n",
    "y = np.array([10.5, 21.4, 10, 9.6, 17.4, 12.5, 20, 21, 14.7, 10.1, 21.5, \n",
    "              16.6, 17.1, 20.7, 15.5, 13.5, 12.5])\n",
    "\n",
    "\n",
    "# Create and fit the model\n",
    "sgd_regressor = SGDRegressor()\n",
    "sgd_regressor.fit(X, y)\n",
    "\n",
    "# Print the model parameters\n",
    "print(f\"Model parameters: w = {sgd_regressor.coef_[0]}, b = {sgd_regressor.intercept_[0]}\")\n",
    "\n",
    "# # Make predictions\n",
    "# y_pred = sgd_regressor.predict(X_scaled)\n",
    "\n",
    "# # Compute and print the mean squared error\n",
    "# mse = mean_squared_error(y, y_pred)\n",
    "# print(f\"Mean Squared Error: {mse}\")\n"
   ]
  },
  {
   "cell_type": "code",
   "execution_count": null,
   "metadata": {},
   "outputs": [],
   "source": []
  }
 ],
 "metadata": {
  "kernelspec": {
   "display_name": "Python 3",
   "language": "python",
   "name": "python3"
  },
  "language_info": {
   "codemirror_mode": {
    "name": "ipython",
    "version": 3
   },
   "file_extension": ".py",
   "mimetype": "text/x-python",
   "name": "python",
   "nbconvert_exporter": "python",
   "pygments_lexer": "ipython3",
   "version": "3.7.6"
  }
 },
 "nbformat": 4,
 "nbformat_minor": 4
}
